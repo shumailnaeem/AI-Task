{
  "nbformat": 4,
  "nbformat_minor": 0,
  "metadata": {
    "colab": {
      "name": "Copy of IMDB Movie Reviews.ipynb",
      "version": "0.3.2",
      "provenance": []
    },
    "kernelspec": {
      "name": "python3",
      "display_name": "Python 3"
    }
  },
  "cells": [
    {
      "metadata": {
        "id": "_EvgeAv4Tcc4",
        "colab_type": "text"
      },
      "cell_type": "markdown",
      "source": [
        "# IMDB Movie Reviews Example |"
      ]
    },
    {
      "metadata": {
        "id": "YCZGnu6GTlqi",
        "colab_type": "code",
        "colab": {
          "base_uri": "https://localhost:8080/",
          "height": 68
        },
        "outputId": "af7e42bb-5013-45c5-9105-aeb0a97557a0"
      },
      "cell_type": "code",
      "source": [
        "from keras.datasets import imdb \n",
        "\n",
        "(train_data, train_labels), (test_data, test_labels) = imdb.load_data(num_words = 10000)"
      ],
      "execution_count": 1,
      "outputs": [
        {
          "output_type": "stream",
          "text": [
            "Using TensorFlow backend.\n"
          ],
          "name": "stderr"
        },
        {
          "output_type": "stream",
          "text": [
            "Downloading data from https://s3.amazonaws.com/text-datasets/imdb.npz\n",
            "17465344/17464789 [==============================] - 0s 0us/step\n"
          ],
          "name": "stdout"
        }
      ]
    },
    {
      "metadata": {
        "id": "CLNK1Q3kT-Zm",
        "colab_type": "code",
        "outputId": "16aed562-5ecf-4b04-82eb-a53064f860e9",
        "colab": {
          "base_uri": "https://localhost:8080/",
          "height": 34
        }
      },
      "cell_type": "code",
      "source": [
        "max([max(sequence) for sequence in train_data])"
      ],
      "execution_count": 2,
      "outputs": [
        {
          "output_type": "execute_result",
          "data": {
            "text/plain": [
              "9999"
            ]
          },
          "metadata": {
            "tags": []
          },
          "execution_count": 2
        }
      ]
    },
    {
      "metadata": {
        "id": "L9NO8qfsULv8",
        "colab_type": "code",
        "outputId": "2ed764c2-00a3-4207-861c-372cfcd977f4",
        "colab": {
          "base_uri": "https://localhost:8080/",
          "height": 51
        }
      },
      "cell_type": "code",
      "source": [
        "import collections\n",
        "\n",
        "word_index = imdb.get_word_index()\n",
        "reverse_word_index = dict(\n",
        "    [(value, key) for (value, key) in word_index.items()])\n",
        "\n",
        "decoded_review = ' '.join(\n",
        "    [reverse_word_index.get(i - 3, '?') for i in train_data[0]])\n",
        "\n"
      ],
      "execution_count": 3,
      "outputs": [
        {
          "output_type": "stream",
          "text": [
            "Downloading data from https://s3.amazonaws.com/text-datasets/imdb_word_index.json\n",
            "1646592/1641221 [==============================] - 0s 0us/step\n"
          ],
          "name": "stdout"
        }
      ]
    },
    {
      "metadata": {
        "id": "nxReqIlaXkLV",
        "colab_type": "code",
        "colab": {}
      },
      "cell_type": "code",
      "source": [
        "import numpy as np\n",
        "def vectorize_sequences(sequences, dimension=10000):\n",
        "    results = np.zeros((len(sequences), dimension))\n",
        "    for i, sequence in enumerate(sequences):\n",
        "        results[i, sequence] = 1.\n",
        "    return results\n",
        "\n",
        "x_train = vectorize_sequences(train_data)\n",
        "x_test = vectorize_sequences(test_data)"
      ],
      "execution_count": 0,
      "outputs": []
    },
    {
      "metadata": {
        "id": "Sq-o59iYdEdq",
        "colab_type": "code",
        "colab": {}
      },
      "cell_type": "code",
      "source": [
        "y_train = np.asarray(train_labels).astype('float32')\n",
        "y_test = np.asarray(test_labels).astype('float32')"
      ],
      "execution_count": 0,
      "outputs": []
    },
    {
      "metadata": {
        "id": "5rJ1iH_xdJ0o",
        "colab_type": "code",
        "colab": {}
      },
      "cell_type": "code",
      "source": [
        "from keras import models\n",
        "from keras import layers\n",
        "model = models.Sequential()\n",
        "model.add(layers.Dense(16, activation='relu', input_shape=(10000,)))\n",
        "model.add(layers.Dense(16, activation='relu'))\n",
        "model.add(layers.Dense(1, activation='sigmoid'))"
      ],
      "execution_count": 0,
      "outputs": []
    },
    {
      "metadata": {
        "id": "65nj9BZxdN5d",
        "colab_type": "code",
        "colab": {}
      },
      "cell_type": "code",
      "source": [
        "model.compile(optimizer='rmsprop',\n",
        "              loss='binary_crossentropy',\n",
        "              metrics=['accuracy'])"
      ],
      "execution_count": 0,
      "outputs": []
    },
    {
      "metadata": {
        "id": "nI4GLagedT5V",
        "colab_type": "code",
        "colab": {}
      },
      "cell_type": "code",
      "source": [
        "from keras import optimizers\n",
        "\n",
        "model.compile(optimizer=optimizers.RMSprop(lr=0.001),\n",
        "              loss='binary_crossentropy',\n",
        "              metrics=['accuracy'])"
      ],
      "execution_count": 0,
      "outputs": []
    },
    {
      "metadata": {
        "id": "huBaA4cDdWqS",
        "colab_type": "code",
        "colab": {}
      },
      "cell_type": "code",
      "source": [
        "from keras import losses\n",
        "from keras import metrics\n",
        "\n",
        "model.compile(optimizer=optimizers.RMSprop(lr=0.001),\n",
        "              loss=losses.binary_crossentropy,\n",
        "              metrics=[metrics.binary_accuracy])"
      ],
      "execution_count": 0,
      "outputs": []
    },
    {
      "metadata": {
        "id": "bLCFtYJZdY-1",
        "colab_type": "code",
        "colab": {}
      },
      "cell_type": "code",
      "source": [
        "x_val = x_train[:10000]\n",
        "partial_x_train = x_train[10000:]\n",
        "y_val = y_train[:10000]\n",
        "partial_y_train = y_train[10000:]"
      ],
      "execution_count": 0,
      "outputs": []
    },
    {
      "metadata": {
        "id": "tffbDUFKdbGt",
        "colab_type": "code",
        "outputId": "4b09cbf6-547f-4aff-b8c0-729210cf709b",
        "colab": {
          "base_uri": "https://localhost:8080/",
          "height": 714
        }
      },
      "cell_type": "code",
      "source": [
        "model.compile(optimizer='rmsprop',\n",
        "loss='binary_crossentropy',\n",
        "              metrics=['acc'])\n",
        "history = model.fit(partial_x_train,\n",
        "                    partial_y_train,\n",
        "                    epochs=20,\n",
        "                    batch_size=512,\n",
        "                    validation_data=(x_val, y_val))"
      ],
      "execution_count": 11,
      "outputs": [
        {
          "output_type": "stream",
          "text": [
            "Train on 15000 samples, validate on 10000 samples\n",
            "Epoch 1/20\n",
            "15000/15000 [==============================] - 3s 174us/step - loss: 0.5087 - acc: 0.7813 - val_loss: 0.3801 - val_acc: 0.8691\n",
            "Epoch 2/20\n",
            "15000/15000 [==============================] - 2s 130us/step - loss: 0.3008 - acc: 0.9050 - val_loss: 0.3006 - val_acc: 0.8900\n",
            "Epoch 3/20\n",
            "15000/15000 [==============================] - 2s 130us/step - loss: 0.2181 - acc: 0.9278 - val_loss: 0.3084 - val_acc: 0.8719\n",
            "Epoch 4/20\n",
            "15000/15000 [==============================] - 2s 128us/step - loss: 0.1751 - acc: 0.9433 - val_loss: 0.2841 - val_acc: 0.8839\n",
            "Epoch 5/20\n",
            "15000/15000 [==============================] - 2s 128us/step - loss: 0.1427 - acc: 0.9542 - val_loss: 0.2847 - val_acc: 0.8865\n",
            "Epoch 6/20\n",
            "15000/15000 [==============================] - 2s 128us/step - loss: 0.1150 - acc: 0.9654 - val_loss: 0.3160 - val_acc: 0.8773\n",
            "Epoch 7/20\n",
            "15000/15000 [==============================] - 2s 128us/step - loss: 0.0981 - acc: 0.9705 - val_loss: 0.3126 - val_acc: 0.8845\n",
            "Epoch 8/20\n",
            "15000/15000 [==============================] - 2s 132us/step - loss: 0.0808 - acc: 0.9764 - val_loss: 0.3851 - val_acc: 0.8654\n",
            "Epoch 9/20\n",
            "15000/15000 [==============================] - 2s 129us/step - loss: 0.0662 - acc: 0.9821 - val_loss: 0.3632 - val_acc: 0.8782\n",
            "Epoch 10/20\n",
            "15000/15000 [==============================] - 2s 129us/step - loss: 0.0559 - acc: 0.9852 - val_loss: 0.3840 - val_acc: 0.8793\n",
            "Epoch 11/20\n",
            "15000/15000 [==============================] - 2s 129us/step - loss: 0.0449 - acc: 0.9887 - val_loss: 0.4157 - val_acc: 0.8767\n",
            "Epoch 12/20\n",
            "15000/15000 [==============================] - 2s 128us/step - loss: 0.0385 - acc: 0.9913 - val_loss: 0.4503 - val_acc: 0.8697\n",
            "Epoch 13/20\n",
            "15000/15000 [==============================] - 2s 131us/step - loss: 0.0300 - acc: 0.9930 - val_loss: 0.4693 - val_acc: 0.8730\n",
            "Epoch 14/20\n",
            "15000/15000 [==============================] - 2s 129us/step - loss: 0.0248 - acc: 0.9947 - val_loss: 0.5026 - val_acc: 0.8716\n",
            "Epoch 15/20\n",
            "15000/15000 [==============================] - 2s 131us/step - loss: 0.0173 - acc: 0.9983 - val_loss: 0.5529 - val_acc: 0.8670\n",
            "Epoch 16/20\n",
            "15000/15000 [==============================] - 2s 130us/step - loss: 0.0151 - acc: 0.9979 - val_loss: 0.5896 - val_acc: 0.8659\n",
            "Epoch 17/20\n",
            "15000/15000 [==============================] - 2s 130us/step - loss: 0.0123 - acc: 0.9983 - val_loss: 0.6106 - val_acc: 0.8669\n",
            "Epoch 18/20\n",
            "15000/15000 [==============================] - 2s 127us/step - loss: 0.0111 - acc: 0.9977 - val_loss: 0.6385 - val_acc: 0.8674\n",
            "Epoch 19/20\n",
            "15000/15000 [==============================] - 2s 127us/step - loss: 0.0066 - acc: 0.9994 - val_loss: 0.7433 - val_acc: 0.8550\n",
            "Epoch 20/20\n",
            "15000/15000 [==============================] - 2s 130us/step - loss: 0.0048 - acc: 0.9998 - val_loss: 0.7007 - val_acc: 0.8658\n"
          ],
          "name": "stdout"
        }
      ]
    },
    {
      "metadata": {
        "id": "a3fKjFfFdeM5",
        "colab_type": "code",
        "outputId": "41f093a6-f1a0-40c4-d421-ef1d3f370ea0",
        "colab": {
          "base_uri": "https://localhost:8080/",
          "height": 393
        }
      },
      "cell_type": "code",
      "source": [
        "import matplotlib.pyplot as plt\n",
        "history_dict = history.history\n",
        "loss_values = history_dict['loss']\n",
        "val_loss_values = history_dict['val_loss']\n",
        "acc = history_dict['acc']\n",
        "epochs = list(range(1, len(acc) + 1))\n",
        "plt.plot(epochs, loss_values, 'bo', label='Training loss')\n",
        "plt.plot(epochs, val_loss_values, 'b', label='Validation loss')\n",
        "plt.title('Training and validation loss')\n",
        "plt.xlabel('Epochs')\n",
        "plt.ylabel('Loss')\n",
        "plt.legend()\n",
        "plt.show()\n",
        "print(\"Figure 3.7 Training and validation loss\")"
      ],
      "execution_count": 12,
      "outputs": [
        {
          "output_type": "display_data",
          "data": {
            "image/png": "[encoded data removed]",
            "text/plain": [
              "<matplotlib.figure.Figure at 0x7f362e9ecef0>"
            ]
          },
          "metadata": {
            "tags": []
          }
        },
        {
          "output_type": "stream",
          "text": [
            "Figure 3.7 Training and validation loss\n"
          ],
          "name": "stdout"
        }
      ]
    },
    {
      "metadata": {
        "id": "YvoF0OhndvFy",
        "colab_type": "code",
        "outputId": "c5de8dc3-4e0a-42ec-91de-fb65b8edc704",
        "colab": {
          "base_uri": "https://localhost:8080/",
          "height": 393
        }
      },
      "cell_type": "code",
      "source": [
        "plt.clf()\n",
        "acc_values = history_dict['acc']\n",
        "val_acc_values = history_dict['val_acc']\n",
        "plt.plot(epochs, acc, 'bo', label='Training acc')\n",
        "plt.plot(epochs, val_acc_values, 'b', label='Validation acc')\n",
        "plt.title('Training and validation accuracy')\n",
        "plt.xlabel('Epochs')\n",
        "plt.ylabel('Loss')\n",
        "plt.legend()\n",
        "plt.show()\n",
        "print(\"Figure 3.8 Training and validation accuracy\")"
      ],
      "execution_count": 13,
      "outputs": [
        {
          "output_type": "display_data",
          "data": {
            "image/png": "[encoded data removed]",
            "text/plain": [
              "<matplotlib.figure.Figure at 0x7f362e9ecba8>"
            ]
          },
          "metadata": {
            "tags": []
          }
        },
        {
          "output_type": "stream",
          "text": [
            "Figure 3.8 Training and validation accuracy\n"
          ],
          "name": "stdout"
        }
      ]
    },
    {
      "metadata": {
        "id": "sS5w1d7AdzLd",
        "colab_type": "code",
        "outputId": "65dcabd8-8553-422c-98d1-0033c04ac205",
        "colab": {
          "base_uri": "https://localhost:8080/",
          "height": 170
        }
      },
      "cell_type": "code",
      "source": [
        "model = models.Sequential()\n",
        "model.add(layers.Dense(16, activation='relu', input_shape=(10000,)))\n",
        "model.add(layers.Dense(16, activation='relu'))\n",
        "model.add(layers.Dense(1, activation='sigmoid'))\n",
        "model.compile(optimizer='rmsprop',\n",
        "              loss='binary_crossentropy',\n",
        "              metrics=['accuracy'])\n",
        "model.fit(x_train, y_train, epochs=4, batch_size=512)\n",
        "results = model.evaluate(x_test, y_test)\n",
        "\n"
      ],
      "execution_count": 14,
      "outputs": [
        {
          "output_type": "stream",
          "text": [
            "Epoch 1/4\n",
            "25000/25000 [==============================] - 2s 98us/step - loss: 0.4736 - acc: 0.8224\n",
            "Epoch 2/4\n",
            "25000/25000 [==============================] - 2s 93us/step - loss: 0.2674 - acc: 0.9092\n",
            "Epoch 3/4\n",
            "25000/25000 [==============================] - 2s 92us/step - loss: 0.2033 - acc: 0.9286\n",
            "Epoch 4/4\n",
            "25000/25000 [==============================] - 2s 92us/step - loss: 0.1715 - acc: 0.9384\n",
            "25000/25000 [==============================] - 2s 67us/step\n"
          ],
          "name": "stdout"
        }
      ]
    },
    {
      "metadata": {
        "id": "Y7yMyLyad4t2",
        "colab_type": "code",
        "colab": {}
      },
      "cell_type": "code",
      "source": [
        ""
      ],
      "execution_count": 0,
      "outputs": []
    }
  ]
}