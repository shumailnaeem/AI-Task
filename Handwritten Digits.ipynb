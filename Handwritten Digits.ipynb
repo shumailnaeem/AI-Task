{
  "nbformat": 4,
  "nbformat_minor": 0,
  "metadata": {
    "colab": {
      "name": "farhan.ipynb",
      "version": "0.3.2",
      "provenance": [],
      "collapsed_sections": []
    },
    "kernelspec": {
      "name": "python3",
      "display_name": "Python 3"
    }
  },
  "cells": [
    {
      "metadata": {
        "id": "5nJHpJWMhfLT",
        "colab_type": "code",
        "colab": {
          "base_uri": "https://localhost:8080/",
          "height": 34
        },
        "outputId": "17a8fe5e-a69c-41c5-d54b-eeb1649a0c9b"
      },
      "cell_type": "code",
      "source": [
        "\n",
        "from keras.datasets import mnist"
      ],
      "execution_count": 1,
      "outputs": [
        {
          "output_type": "stream",
          "text": [
            "Using TensorFlow backend.\n"
          ],
          "name": "stderr"
        }
      ]
    },
    {
      "metadata": {
        "id": "qX56ZCwJhmgG",
        "colab_type": "code",
        "colab": {}
      },
      "cell_type": "code",
      "source": [
        "(train_images, train_labels), (test_images, test_labels) = mnist.load_data()"
      ],
      "execution_count": 0,
      "outputs": []
    },
    {
      "metadata": {
        "id": "78widvBxhraO",
        "colab_type": "code",
        "colab": {
          "base_uri": "https://localhost:8080/",
          "height": 34
        },
        "outputId": "a480334b-81c5-484f-e3f3-76ad6062617b"
      },
      "cell_type": "code",
      "source": [
        "train_images.shape\n",
        "(60000, 28, 28)\n",
        "len(train_labels)\n",
        "60000\n",
        "train_labels"
      ],
      "execution_count": 3,
      "outputs": [
        {
          "output_type": "execute_result",
          "data": {
            "text/plain": [
              "array([5, 0, 4, ..., 5, 6, 8], dtype=uint8)"
            ]
          },
          "metadata": {
            "tags": []
          },
          "execution_count": 3
        }
      ]
    },
    {
      "metadata": {
        "id": "47FeTmmUhxLp",
        "colab_type": "code",
        "colab": {
          "base_uri": "https://localhost:8080/",
          "height": 34
        },
        "outputId": "70cfa943-4486-4fb8-f53b-2f031a89e929"
      },
      "cell_type": "code",
      "source": [
        "test_images.shape\n",
        "(10000, 28, 28)\n",
        "len(test_labels)\n",
        "10000\n",
        "test_labels"
      ],
      "execution_count": 4,
      "outputs": [
        {
          "output_type": "execute_result",
          "data": {
            "text/plain": [
              "array([7, 2, 1, ..., 4, 5, 6], dtype=uint8)"
            ]
          },
          "metadata": {
            "tags": []
          },
          "execution_count": 4
        }
      ]
    },
    {
      "metadata": {
        "id": "E9CeHpsqh4Yi",
        "colab_type": "code",
        "colab": {}
      },
      "cell_type": "code",
      "source": [
        "from keras import models\n",
        "from keras import layers\n",
        "network = models.Sequential()\n",
        "network.add(layers.Dense(512, activation='relu', input_shape=(28 * 28,)))\n",
        "network.add(layers.Dense(10, activation='softmax'))"
      ],
      "execution_count": 0,
      "outputs": []
    },
    {
      "metadata": {
        "id": "Pk2XYjYSh-Ur",
        "colab_type": "code",
        "colab": {}
      },
      "cell_type": "code",
      "source": [
        "network.compile(optimizer='rmsprop',\n",
        "loss='categorical_crossentropy',\n",
        "metrics=['accuracy'])"
      ],
      "execution_count": 0,
      "outputs": []
    },
    {
      "metadata": {
        "id": "UhQ-b67giA7-",
        "colab_type": "code",
        "colab": {}
      },
      "cell_type": "code",
      "source": [
        "train_images = train_images.reshape((60000, 28 * 28))\n",
        "train_images = train_images.astype('float32') / 255\n",
        "test_images = test_images.reshape((10000, 28 * 28))\n",
        "test_images = test_images.astype('float32') / 255"
      ],
      "execution_count": 0,
      "outputs": []
    },
    {
      "metadata": {
        "id": "EDYN1Lm8iDwx",
        "colab_type": "code",
        "colab": {}
      },
      "cell_type": "code",
      "source": [
        "from keras.utils import to_categorical\n",
        "train_labels = to_categorical(train_labels)\n",
        "test_labels = to_categorical(test_labels)"
      ],
      "execution_count": 0,
      "outputs": []
    },
    {
      "metadata": {
        "id": "s_7qYtUciG2Q",
        "colab_type": "code",
        "colab": {
          "base_uri": "https://localhost:8080/",
          "height": 374
        },
        "outputId": "3c66d392-c9e2-4066-ee78-34a0912c3761"
      },
      "cell_type": "code",
      "source": [
        "network.fit(train_images, train_labels, epochs=10, batch_size=128)"
      ],
      "execution_count": 9,
      "outputs": [
        {
          "output_type": "stream",
          "text": [
            "Epoch 1/10\n",
            "60000/60000 [==============================] - 5s 89us/step - loss: 0.2561 - acc: 0.9268\n",
            "Epoch 2/10\n",
            "60000/60000 [==============================] - 5s 84us/step - loss: 0.1036 - acc: 0.9691\n",
            "Epoch 3/10\n",
            "60000/60000 [==============================] - 5s 79us/step - loss: 0.0686 - acc: 0.9792\n",
            "Epoch 4/10\n",
            "60000/60000 [==============================] - 5s 79us/step - loss: 0.0493 - acc: 0.9853\n",
            "Epoch 5/10\n",
            "60000/60000 [==============================] - 5s 83us/step - loss: 0.0366 - acc: 0.9889\n",
            "Epoch 6/10\n",
            "60000/60000 [==============================] - 5s 81us/step - loss: 0.0285 - acc: 0.9914\n",
            "Epoch 7/10\n",
            "60000/60000 [==============================] - 5s 78us/step - loss: 0.0216 - acc: 0.9934\n",
            "Epoch 8/10\n",
            "60000/60000 [==============================] - 5s 81us/step - loss: 0.0172 - acc: 0.9948\n",
            "Epoch 9/10\n",
            "60000/60000 [==============================] - 5s 84us/step - loss: 0.0126 - acc: 0.9962\n",
            "Epoch 10/10\n",
            "60000/60000 [==============================] - 5s 80us/step - loss: 0.0095 - acc: 0.9972\n"
          ],
          "name": "stdout"
        },
        {
          "output_type": "execute_result",
          "data": {
            "text/plain": [
              "<keras.callbacks.History at 0x7ffa05924160>"
            ]
          },
          "metadata": {
            "tags": []
          },
          "execution_count": 9
        }
      ]
    },
    {
      "metadata": {
        "id": "SizUS4qSiKd9",
        "colab_type": "code",
        "colab": {
          "base_uri": "https://localhost:8080/",
          "height": 51
        },
        "outputId": "5cec0267-eeee-4078-9e8a-f7cd5e21c405"
      },
      "cell_type": "code",
      "source": [
        "test_loss, test_acc = network.evaluate(test_images, test_labels)\n",
        "print('test_acc:', test_acc)"
      ],
      "execution_count": 10,
      "outputs": [
        {
          "output_type": "stream",
          "text": [
            "10000/10000 [==============================] - 1s 56us/step\n",
            "test_acc: 0.9818\n"
          ],
          "name": "stdout"
        }
      ]
    },
    {
      "metadata": {
        "id": "wmkNKsyriXoB",
        "colab_type": "code",
        "colab": {
          "base_uri": "https://localhost:8080/",
          "height": 34
        },
        "outputId": "c66fe6f5-bc48-41f9-971a-aa53e0b033ae"
      },
      "cell_type": "code",
      "source": [
        "print(train_images.shape)"
      ],
      "execution_count": 11,
      "outputs": [
        {
          "output_type": "stream",
          "text": [
            "(60000, 784)\n"
          ],
          "name": "stdout"
        }
      ]
    },
    {
      "metadata": {
        "id": "f7qUAvCBiajP",
        "colab_type": "code",
        "colab": {
          "base_uri": "https://localhost:8080/",
          "height": 34
        },
        "outputId": "fa1b7e19-8a7a-40b7-ff73-7b6668e61785"
      },
      "cell_type": "code",
      "source": [
        "print(train_images.dtype)"
      ],
      "execution_count": 12,
      "outputs": [
        {
          "output_type": "stream",
          "text": [
            "float32\n"
          ],
          "name": "stdout"
        }
      ]
    },
    {
      "metadata": {
        "id": "w-Y_mq_AidOB",
        "colab_type": "code",
        "colab": {}
      },
      "cell_type": "code",
      "source": [
        ""
      ],
      "execution_count": 0,
      "outputs": []
    }
  ]
}